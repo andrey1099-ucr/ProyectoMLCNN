{
 "cells": [
  {
   "cell_type": "markdown",
   "id": "51b29a7c",
   "metadata": {},
   "source": [
    "# Preprocesamiento de datos"
   ]
  },
  {
   "cell_type": "markdown",
   "id": "a2d405d6",
   "metadata": {},
   "source": [
    "## 1. Introducción\n",
    "\n",
    "El aprendizaje automático se ha convertido en una herramienta esencial para la clasificación, análisis y procesamiento de información en distintas áreas de la ciencia. En particular, la botánica enfrenta el reto de manejar grandes cantidades de imágenes de hojas de distintas especies, las cuales pueden presentar variaciones en iluminación, tamaño y calidad.\n",
    "\n",
    "El presente documento describe el preprocesamiento de datos realizado para el proyecto de clasificación automática de hojas de Costa Rica. Este preprocesamiento es esencial para mejorar la calidad del dataset y preparar las imágenes para el entrenamiento de una red neuronal convolucional (CNN), asegurando que el modelo aprenda de manera eficiente y precisa, minimizando problemas de overfitting o underfitting."
   ]
  },
  {
   "cell_type": "markdown",
   "id": "e40254e3",
   "metadata": {},
   "source": [
    "## 2. Materiales y métodos"
   ]
  },
  {
   "cell_type": "markdown",
   "id": "e02c3808",
   "metadata": {},
   "source": [
    "### Importar librerías"
   ]
  },
  {
   "cell_type": "code",
   "execution_count": 1,
   "id": "4cf9e2e4",
   "metadata": {},
   "outputs": [],
   "source": [
    "import os\n",
    "import pandas as pd\n",
    "import cv2\n",
    "import shutil\n",
    "import random\n",
    "import numpy as np\n",
    "import matplotlib.pyplot as plt\n",
    "from tensorflow.keras.preprocessing.image import (\n",
    "    ImageDataGenerator,\n",
    "    array_to_img,\n",
    "    img_to_array,\n",
    "    load_img,\n",
    ")"
   ]
  },
  {
   "cell_type": "markdown",
   "id": "404531b6",
   "metadata": {},
   "source": [
    "### Exploración inicial del dataset"
   ]
  },
  {
   "cell_type": "code",
   "execution_count": null,
   "id": "e3fa1bce",
   "metadata": {},
   "outputs": [
    {
     "name": "stdout",
     "output_type": "stream",
     "text": [
      "Número de clases originales: 255\n"
     ]
    },
    {
     "data": {
      "text/html": [
       "<div>\n",
       "<style scoped>\n",
       "    .dataframe tbody tr th:only-of-type {\n",
       "        vertical-align: middle;\n",
       "    }\n",
       "\n",
       "    .dataframe tbody tr th {\n",
       "        vertical-align: top;\n",
       "    }\n",
       "\n",
       "    .dataframe thead th {\n",
       "        text-align: right;\n",
       "    }\n",
       "</style>\n",
       "<table border=\"1\" class=\"dataframe\">\n",
       "  <thead>\n",
       "    <tr style=\"text-align: right;\">\n",
       "      <th></th>\n",
       "      <th>Class</th>\n",
       "      <th>Number of Images</th>\n",
       "    </tr>\n",
       "  </thead>\n",
       "  <tbody>\n",
       "    <tr>\n",
       "      <th>242</th>\n",
       "      <td>Terminalia amazonia</td>\n",
       "      <td>89</td>\n",
       "    </tr>\n",
       "    <tr>\n",
       "      <th>40</th>\n",
       "      <td>Calycophyllum candidissimum</td>\n",
       "      <td>76</td>\n",
       "    </tr>\n",
       "    <tr>\n",
       "      <th>237</th>\n",
       "      <td>Tabebuia ochracea</td>\n",
       "      <td>67</td>\n",
       "    </tr>\n",
       "    <tr>\n",
       "      <th>233</th>\n",
       "      <td>Swietenia macrophylla</td>\n",
       "      <td>66</td>\n",
       "    </tr>\n",
       "    <tr>\n",
       "      <th>156</th>\n",
       "      <td>Manilkara chicle</td>\n",
       "      <td>65</td>\n",
       "    </tr>\n",
       "  </tbody>\n",
       "</table>\n",
       "</div>"
      ],
      "text/plain": [
       "                           Class  Number of Images\n",
       "242          Terminalia amazonia                89\n",
       "40   Calycophyllum candidissimum                76\n",
       "237            Tabebuia ochracea                67\n",
       "233        Swietenia macrophylla                66\n",
       "156             Manilkara chicle                65"
      ]
     },
     "execution_count": 2,
     "metadata": {},
     "output_type": "execute_result"
    }
   ],
   "source": [
    "# Ruta del dataset original\n",
    "dataset_path = \"./All_CR_Leaves_Cleaned\"\n",
    "\n",
    "# Exploración inicial\n",
    "all_classes = []\n",
    "dir_elements = sorted(os.listdir(dataset_path))\n",
    "\n",
    "for class_name in dir_elements:\n",
    "    class_path = os.path.join(dataset_path, class_name)\n",
    "    if os.path.isdir(class_path):\n",
    "        images = [\n",
    "            f\n",
    "            for f in os.listdir(class_path)\n",
    "            if f.lower().endswith((\".png\", \".jpg\", \".jpeg\"))\n",
    "        ]\n",
    "        all_classes.append([class_name, len(images)])\n",
    "\n",
    "classes_DF = pd.DataFrame(\n",
    "    all_classes, columns=[\"Class\", \"Number of Images\"]\n",
    ").sort_values(by=\"Number of Images\", ascending=False)\n",
    "print(f\"Número de clases originales: {len(classes_DF)}\")\n",
    "classes_DF.head()"
   ]
  },
  {
   "cell_type": "markdown",
   "id": "02c3da37",
   "metadata": {},
   "source": [
    "### Visualización inicial"
   ]
  },
  {
   "cell_type": "code",
   "execution_count": null,
   "id": "0ff11dec",
   "metadata": {},
   "outputs": [],
   "source": [
    "plt.figure(figsize=(10, 50))\n",
    "plt.barh(classes_DF[\"Class\"], classes_DF[\"Number of Images\"])\n",
    "plt.title(\"Distribución inicial de imágenes por clase\")\n",
    "plt.xlabel(\"Número de imágenes\")\n",
    "plt.ylabel(\"Clase\")\n",
    "plt.show()"
   ]
  },
  {
   "cell_type": "markdown",
   "id": "94abd06b",
   "metadata": {},
   "source": [
    "### Filtrado de clases con menos de 10 imágenes"
   ]
  },
  {
   "cell_type": "code",
   "execution_count": 12,
   "id": "3f0a8fa3",
   "metadata": {},
   "outputs": [
    {
     "name": "stdout",
     "output_type": "stream",
     "text": [
      "Clases después del filtrado (< 10 imágenes eliminadas): 236\n"
     ]
    }
   ],
   "source": [
    "filtered_classes_DF = classes_DF[classes_DF[\"Number of Images\"] >= 10]\n",
    "print(\n",
    "    f\"Clases después del filtrado (< 10 imágenes eliminadas): {len(filtered_classes_DF)}\"\n",
    ")\n",
    "filtered_classes_DF.head()\n",
    "\n",
    "filtered_classes_DF.to_csv(\"filtered_dataset_summary.csv\", index=False)"
   ]
  },
  {
   "cell_type": "markdown",
   "id": "a6477204",
   "metadata": {},
   "source": [
    "###  Reescalado de imágenes"
   ]
  },
  {
   "cell_type": "code",
   "execution_count": 20,
   "id": "9586bc26",
   "metadata": {},
   "outputs": [
    {
     "name": "stdout",
     "output_type": "stream",
     "text": [
      "✅ Reescalado y guardado en filtered_leaves\n"
     ]
    }
   ],
   "source": [
    "input_dir = \"./All_CR_Leaves_Cleaned\"\n",
    "output_dir = \"./filtered_leaves\"\n",
    "img_size = (64, 64)\n",
    "\n",
    "# Crear carpeta destino si no existe\n",
    "os.makedirs(output_dir, exist_ok=True)\n",
    "\n",
    "for class_name in os.listdir(input_dir):\n",
    "    class_path = os.path.join(input_dir, class_name)\n",
    "    if os.path.isdir(class_path):\n",
    "        # Crear subcarpeta por clase en destino\n",
    "        output_class_path = os.path.join(output_dir, class_name)\n",
    "        os.makedirs(output_class_path, exist_ok=True)\n",
    "\n",
    "        for img_name in os.listdir(class_path):\n",
    "            if img_name.lower().endswith((\".jpg\", \".jpeg\", \".png\")):\n",
    "                src_img_path = os.path.join(class_path, img_name)\n",
    "                dst_img_path = os.path.join(output_class_path, img_name)\n",
    "\n",
    "                img = cv2.imread(src_img_path)\n",
    "                if img is None:\n",
    "                    print(f\"⚠ Imagen inválida: {src_img_path}\")\n",
    "                    continue\n",
    "\n",
    "                resized_img = cv2.resize(img, img_size)\n",
    "                cv2.imwrite(dst_img_path, resized_img)\n",
    "\n",
    "print(\"✅ Reescalado y guardado en filtered_leaves\")"
   ]
  },
  {
   "cell_type": "markdown",
   "id": "946b7943",
   "metadata": {},
   "source": [
    "### Normalización brillo, contraste y píxeles"
   ]
  },
  {
   "cell_type": "code",
   "execution_count": 21,
   "id": "f833cddb",
   "metadata": {},
   "outputs": [
    {
     "name": "stdout",
     "output_type": "stream",
     "text": [
      "✅ Normalización de brillo, contraste y píxeles completada en filtered_leaves\n"
     ]
    }
   ],
   "source": [
    "# Ruta donde estánlas imágenes ya reescaladas\n",
    "processed_dir = \"./filtered_leaves\"\n",
    "\n",
    "\n",
    "def normalize_image(img_path):\n",
    "    # Leer imagen\n",
    "    img = cv2.imread(img_path)\n",
    "    if img is None:\n",
    "        print(f\"⚠ Imagen inválida: {img_path}\")\n",
    "        return\n",
    "\n",
    "    #Convertir a escala de grises\n",
    "    # img = cv2.cvtColor(img, cv2.COLOR_BGR2GRAY)\n",
    "\n",
    "    # Aplicar ecualización de histograma en cada canal (mejor para imágenes a color)\n",
    "    # Se separan los canales (B, G, R), se ecualiza cada uno y se recombinan.\n",
    "    channels = cv2.split(img)\n",
    "    eq_channels = []\n",
    "    for ch in channels:\n",
    "        eq_channels.append(cv2.equalizeHist(ch))\n",
    "    img_eq = cv2.merge(eq_channels)\n",
    "\n",
    "    # Normalizar píxeles al rango 0-1 dividiendo por 255 (mejora la estabilidad numérica en modelos)\n",
    "    img_norm = img_eq / 255.0\n",
    "\n",
    "    # Guardar de vuelta como imagen uint8 (rango 0-255), convirtiendo de nuevo de 0-1 a 0-255\n",
    "    cv2.imwrite(img_path, (img_norm * 255).astype(np.uint8))\n",
    "\n",
    "\n",
    "# Aplicar normalización a todas las imágenes dentro de ./filtered_leaves\n",
    "for class_name in os.listdir(processed_dir):\n",
    "    class_dir = os.path.join(processed_dir, class_name)\n",
    "    if os.path.isdir(class_dir):\n",
    "        for img_name in os.listdir(class_dir):\n",
    "            if img_name.lower().endswith((\".jpg\", \".jpeg\", \".png\")):\n",
    "                img_path = os.path.join(class_dir, img_name)\n",
    "                normalize_image(img_path)\n",
    "\n",
    "print(\"✅ Normalización de brillo, contraste y píxeles completada en filtered_leaves\")"
   ]
  },
  {
   "cell_type": "markdown",
   "id": "340ffc45",
   "metadata": {},
   "source": [
    "## Discusión de resultados"
   ]
  },
  {
   "cell_type": "markdown",
   "id": "a40fcc82",
   "metadata": {},
   "source": [
    "## Avance y revisión del plan"
   ]
  },
  {
   "cell_type": "markdown",
   "id": "d8f2a7a9",
   "metadata": {},
   "source": [
    "## Conclusiones"
   ]
  }
 ],
 "metadata": {
  "kernelspec": {
   "display_name": "venv",
   "language": "python",
   "name": "python3"
  },
  "language_info": {
   "codemirror_mode": {
    "name": "ipython",
    "version": 3
   },
   "file_extension": ".py",
   "mimetype": "text/x-python",
   "name": "python",
   "nbconvert_exporter": "python",
   "pygments_lexer": "ipython3",
   "version": "3.10.11"
  }
 },
 "nbformat": 4,
 "nbformat_minor": 5
}
